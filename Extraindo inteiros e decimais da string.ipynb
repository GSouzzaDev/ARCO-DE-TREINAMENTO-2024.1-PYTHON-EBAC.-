{
  "nbformat": 4,
  "nbformat_minor": 0,
  "metadata": {
    "colab": {
      "provenance": [],
      "authorship_tag": "ABX9TyOTDPJERSAnx7U2RIrzvLAa",
      "include_colab_link": true
    },
    "kernelspec": {
      "name": "python3",
      "display_name": "Python 3"
    },
    "language_info": {
      "name": "python"
    }
  },
  "cells": [
    {
      "cell_type": "markdown",
      "metadata": {
        "id": "view-in-github",
        "colab_type": "text"
      },
      "source": [
        "<a href=\"https://colab.research.google.com/github/GSouzzaDev/ARCO-DE-TREINAMENTO-2024.1-PYTHON-EBAC.-/blob/main/Extraindo%20inteiros%20e%20decimais%20da%20string.ipynb\" target=\"_parent\"><img src=\"https://colab.research.google.com/assets/colab-badge.svg\" alt=\"Open In Colab\"/></a>"
      ]
    },
    {
      "cell_type": "code",
      "execution_count": 5,
      "metadata": {
        "id": "rJtxWKqEpHe9"
      },
      "outputs": [],
      "source": []
    },
    {
      "cell_type": "markdown",
      "source": [
        "Extraia da string abaixo o valor da taxa selic na variável selic e o valor do ano na variável ano. Imprima os valores na tela."
      ],
      "metadata": {
        "id": "9QqVqve8Z_-x"
      }
    },
    {
      "cell_type": "markdown",
      "source": [
        "noticia = 'Selic vai a 2,75% e supera expectativas; ' + \\ 'é a primeira alta em 6 anos.'\n"
      ],
      "metadata": {
        "id": "7XhS_tlpaFn7"
      }
    },
    {
      "cell_type": "code",
      "source": [
        "noticia = 'Selic vai a 2,75% e supera expectativas é a primeira alta em 6 anos.'\n",
        "\n",
        "posicao_final = noticia.find('%')\n",
        "\n",
        "posicao_inical = noticia.rfind(' ', 0, posicao_final) + 1\n",
        "\n",
        "selic = noticia[posicao_inical:posicao_final]\n",
        "\n",
        "print(selic)\n",
        "\n",
        "ano = noticia[noticia.find(\"em\")+3]\n",
        "\n",
        "print(ano)\n"
      ],
      "metadata": {
        "colab": {
          "base_uri": "https://localhost:8080/"
        },
        "id": "4OoK06xYaG8o",
        "outputId": "e03724e6-ab93-4b05-d0bb-39ca7cd4d4de"
      },
      "execution_count": 10,
      "outputs": [
        {
          "output_type": "stream",
          "name": "stdout",
          "text": [
            "2,75\n",
            "6\n"
          ]
        }
      ]
    }
  ]
}