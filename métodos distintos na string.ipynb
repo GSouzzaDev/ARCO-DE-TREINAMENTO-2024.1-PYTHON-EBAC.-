{
  "nbformat": 4,
  "nbformat_minor": 0,
  "metadata": {
    "colab": {
      "provenance": [],
      "authorship_tag": "ABX9TyP0owfUQF4gNEjM56Ygg+FO",
      "include_colab_link": true
    },
    "kernelspec": {
      "name": "python3",
      "display_name": "Python 3"
    },
    "language_info": {
      "name": "python"
    }
  },
  "cells": [
    {
      "cell_type": "markdown",
      "metadata": {
        "id": "view-in-github",
        "colab_type": "text"
      },
      "source": [
        "<a href=\"https://colab.research.google.com/github/GSouzzaDev/ARCO-DE-TREINAMENTO-2024.1-PYTHON-EBAC.-/blob/main/Untitled.ipynb\" target=\"_parent\"><img src=\"https://colab.research.google.com/assets/colab-badge.svg\" alt=\"Open In Colab\"/></a>"
      ]
    },
    {
      "cell_type": "code",
      "execution_count": 5,
      "metadata": {
        "id": "rJtxWKqEpHe9"
      },
      "outputs": [],
      "source": []
    },
    {
      "cell_type": "markdown",
      "source": [
        "Aplique três métodos distintos na string abaixo.\n",
        "\n",
        "cancao = 'Roda mundo, roda gigante, roda moinho, roda pião.'\n"
      ],
      "metadata": {
        "id": "NW03sxw9Y8NO"
      }
    },
    {
      "cell_type": "markdown",
      "source": [
        "Substitua todas as vírgulas por barras /\n",
        "Deixe a string em maiúscula\n",
        "Encontre a posição da palavra \"moinho\" na string"
      ],
      "metadata": {
        "id": "HB6UAVSEZAgs"
      }
    },
    {
      "cell_type": "code",
      "source": [
        "cancao = 'Roda mundo, roda gigante, roda moinho, roda pião.'\n",
        "\n",
        "# Substitua todas as vírgulas por barras /\n",
        "result1 = cancao.replace(',','/')\n",
        "print(result1)\n",
        "\n",
        "# Deixe a string em maiúscula\n",
        "result2 = cancao.upper()\n",
        "print(result2)\n",
        "\n",
        "# Encontre a posição da palavra \"moinho\" na string\n",
        "result3 = cancao.find('moinho')\n",
        "print(result3)"
      ],
      "metadata": {
        "colab": {
          "base_uri": "https://localhost:8080/"
        },
        "id": "9glHiZmAZFU4",
        "outputId": "bceda25d-896d-41e4-b92a-78d04fb4b929"
      },
      "execution_count": 8,
      "outputs": [
        {
          "output_type": "stream",
          "name": "stdout",
          "text": [
            "Roda mundo/ roda gigante/ roda moinho/ roda pião.\n",
            "RODA MUNDO, RODA GIGANTE, RODA MOINHO, RODA PIÃO.\n",
            "31\n"
          ]
        }
      ]
    }
  ]
}
