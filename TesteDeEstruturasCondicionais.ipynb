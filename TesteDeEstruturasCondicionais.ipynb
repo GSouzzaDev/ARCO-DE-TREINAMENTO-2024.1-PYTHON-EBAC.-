{
  "nbformat": 4,
  "nbformat_minor": 0,
  "metadata": {
    "colab": {
      "provenance": [],
      "authorship_tag": "ABX9TyPEDtQtDkj0Nsfw+JZa/XXM",
      "include_colab_link": true
    },
    "kernelspec": {
      "name": "python3",
      "display_name": "Python 3"
    },
    "language_info": {
      "name": "python"
    }
  },
  "cells": [
    {
      "cell_type": "markdown",
      "metadata": {
        "id": "view-in-github",
        "colab_type": "text"
      },
      "source": [
        "<a href=\"https://colab.research.google.com/github/GSouzzaDev/ARCO-DE-TREINAMENTO-2024.1-PYTHON-EBAC.-/blob/main/TesteDeEstruturasCondicionais.ipynb\" target=\"_parent\"><img src=\"https://colab.research.google.com/assets/colab-badge.svg\" alt=\"Open In Colab\"/></a>"
      ]
    },
    {
      "cell_type": "markdown",
      "source": [
        "Na lista propaganda_online dada no editor ao lado, estão presente os dados de usuários que acessaram um determinado site e se o mesmo clicou em uma propaganda.\n",
        "Imprima os valores de idade e tempo_gasto_site, utilizando a estrutura \"for / in\". Os valores devem ser impressos na mesma linha, para cada dado da lista.\n",
        "Obs: Se atenha apenas aos valores solicitados. Qualquer saída que tiver informações extras será considerada um erro."
      ],
      "metadata": {
        "id": "WeuK8uClNtXj"
      }
    },
    {
      "cell_type": "code",
      "source": [
        "propaganda_online = [\n",
        "\t{'tempo_gasto_site': 68.95, 'idade': 35, 'renda_area': 61833.90, 'tempo_gasto_internet': 256.09, 'cidade': 'Wrightburgh', 'pais': 'Tunisia', 'clicou_no_ad': 0},\n",
        "\t{'tempo_gasto_site': 80.23, 'idade': 31, 'renda_area': 68441.85, 'tempo_gasto_internet': 193.77, 'cidade': 'West Jodi', 'pais': 'Nauru', 'clicou_no_ad': 0},\n",
        "\t{'tempo_gasto_site': 69.47, 'idade': 26, 'renda_area': 59785.94, 'tempo_gasto_internet': 236.50, 'cidade': 'Davidton', 'pais': 'San Marino', 'clicou_no_ad': 0},\n",
        "\t{'tempo_gasto_site': 68.37, 'idade': 35, 'renda_area': 73889.99, 'tempo_gasto_internet': 225.58, 'cidade': 'South Manuel', 'pais': 'Iceland', 'clicou_no_ad': 0},\n",
        "\t{'tempo_gasto_site': 88.91, 'idade': 33, 'renda_area': 53852.85, 'tempo_gasto_internet': 208.36, 'cidade': 'Brandonstad', 'pais': 'Myanmar', 'clicou_no_ad': 0},\n",
        "\t{'tempo_gasto_site': None, 'idade': 48, 'renda_area': 24593.33, 'tempo_gasto_internet': 131.76, 'cidade': 'Port Jefferybury', 'pais': 'Australia', 'clicou_no_ad': 1},\n",
        "\t{'tempo_gasto_site': 74.53, 'idade': 30, 'renda_area': 68862.00, 'tempo_gasto_internet': 221.51, 'cidade': 'West Colin', 'pais': 'Grenada'},\n",
        "\t{'tempo_gasto_site': 69.88, 'idade': 20, 'renda_area': 55642.32, 'tempo_gasto_internet': 183.82, 'cidade': 'Ramirezton', 'pais': 'Ghana', 'clicou_no_ad': 0}\n",
        "]\n",
        "for usuario in propaganda_online:\n",
        "\tidade = usuario['idade']\n",
        "\ttempo_gasto_site = usuario.get('tempo_gasto_site')\n",
        "\n",
        "\tprint(idade, tempo_gasto_site)"
      ],
      "metadata": {
        "colab": {
          "base_uri": "https://localhost:8080/"
        },
        "id": "Wd0LKBksN0DT",
        "outputId": "0ac73e87-3a13-4984-e789-8f1c812fb909"
      },
      "execution_count": 1,
      "outputs": [
        {
          "output_type": "stream",
          "name": "stdout",
          "text": [
            "35 68.95\n",
            "31 80.23\n",
            "26 69.47\n",
            "35 68.37\n",
            "33 88.91\n",
            "48 None\n",
            "30 74.53\n",
            "20 69.88\n"
          ]
        }
      ]
    },
    {
      "cell_type": "markdown",
      "source": [
        "Utilize a estrutura if/else para imprimir a cidade dos usuários que gastaram mais de 200 horas de tempo na internet."
      ],
      "metadata": {
        "id": "hly70jkWN9Mb"
      }
    },
    {
      "cell_type": "code",
      "source": [
        "for usuario in propaganda_online:\n",
        "\thora = usuario['tempo_gasto_internet']\n",
        "\tif hora > 200:\n",
        "\t\tcidade = usuario['cidade']\n",
        "\t\tprint(cidade)"
      ],
      "metadata": {
        "colab": {
          "base_uri": "https://localhost:8080/"
        },
        "id": "kkw1iYtNN0wF",
        "outputId": "f1bb8761-95ed-4a48-f552-ef5bd932db9d"
      },
      "execution_count": 2,
      "outputs": [
        {
          "output_type": "stream",
          "name": "stdout",
          "text": [
            "Wrightburgh\n",
            "Davidton\n",
            "South Manuel\n",
            "Brandonstad\n",
            "West Colin\n"
          ]
        }
      ]
    },
    {
      "cell_type": "markdown",
      "source": [
        "Utilize a estrutura try/except para imprimir as cidades dos usuários que passaram mais de 70 segundos no site.\n",
        "Realize o tratamento de exceções dentro da execução da iteração dos elementos da lista. Trate a exceção atribuindo-a à variável error."
      ],
      "metadata": {
        "id": "GLRzoeUAODl1"
      }
    },
    {
      "cell_type": "code",
      "source": [
        "for dado_de_usuario in propaganda_online:\n",
        "\ttry:\n",
        "\t\tsegundos = dado_de_usuario['tempo_gasto_site']\n",
        "\t\tif segundos > 70:\n",
        "\t\t\tcidade = dado_de_usuario['cidade']\n",
        "\t\t\tprint(cidade)\n",
        "\texcept Exception as e:\n",
        "\t\terror = e\n",
        ""
      ],
      "metadata": {
        "colab": {
          "base_uri": "https://localhost:8080/"
        },
        "id": "u3MI_UKTOEXp",
        "outputId": "ed17572c-09cd-4e88-df7f-f016b8ea7705"
      },
      "execution_count": 3,
      "outputs": [
        {
          "output_type": "stream",
          "name": "stdout",
          "text": [
            "West Jodi\n",
            "Brandonstad\n",
            "West Colin\n"
          ]
        }
      ]
    }
  ]
}