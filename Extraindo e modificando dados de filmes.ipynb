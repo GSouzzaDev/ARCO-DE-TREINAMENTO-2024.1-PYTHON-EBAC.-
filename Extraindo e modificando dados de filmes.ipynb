{
  "nbformat": 4,
  "nbformat_minor": 0,
  "metadata": {
    "colab": {
      "provenance": [],
      "authorship_tag": "ABX9TyPbr4lUqpJaCIyN2Aes2UX2",
      "include_colab_link": true
    },
    "kernelspec": {
      "name": "python3",
      "display_name": "Python 3"
    },
    "language_info": {
      "name": "python"
    }
  },
  "cells": [
    {
      "cell_type": "markdown",
      "metadata": {
        "id": "view-in-github",
        "colab_type": "text"
      },
      "source": [
        "<a href=\"https://colab.research.google.com/github/GSouzzaDev/ARCO-DE-TREINAMENTO-2024.1-PYTHON-EBAC.-/blob/main/Extraindo%20e%20modificando%20dados%20de%20filmes.ipynb\" target=\"_parent\"><img src=\"https://colab.research.google.com/assets/colab-badge.svg\" alt=\"Open In Colab\"/></a>"
      ]
    },
    {
      "cell_type": "code",
      "execution_count": null,
      "metadata": {
        "id": "_lFYDtBUhvUr"
      },
      "outputs": [],
      "source": [
        "Criando uma lista chamada filmes com o nome dos 10 primeiros filmes mais bem avaliados no site no IMDB utilizando a seguinte estrutura:"
      ]
    },
    {
      "cell_type": "markdown",
      "source": [
        "https://www.imdb.com/chart/top/"
      ],
      "metadata": {
        "id": "x4Yk0E0Sh6-T"
      }
    },
    {
      "cell_type": "code",
      "source": [
        "filmes = ['1. Um Sonho de Liberdade',\n",
        "          '2. O Poderoso Chefão',\n",
        "          '3. Batman: O Cavaleiro das Trevas',\n",
        "          '4. O Poderoso Chefão II',\n",
        "          '5. 12 Homens e uma Sentença',\n",
        "          '6. A Lista de Schindler',\n",
        "          '7. O Senhor dos Anéis: O Retorno do Rei',\n",
        "          '8. Pulp Fiction: Tempo de Violência',\n",
        "          '9. O Senhor dos Anéis: A Sociedade do Anel',\n",
        "          '10. Três Homens em Conflito']"
      ],
      "metadata": {
        "id": "gpUwDNViiDlG"
      },
      "execution_count": 1,
      "outputs": []
    },
    {
      "cell_type": "markdown",
      "source": [
        "Simulando a movimentação do ranking. utilizando os métodos insert e pop para trocar a posição do primeiro e do segundo filme da lista."
      ],
      "metadata": {
        "id": "s5LtS__IiP6d"
      }
    },
    {
      "cell_type": "code",
      "source": [
        "filmes.pop(0)\n",
        "filmes.insert(1, '1. Um Sonho de Liberdade')\n",
        "\n",
        "print(filmes)"
      ],
      "metadata": {
        "id": "S7VeZf7ViNIn"
      },
      "execution_count": null,
      "outputs": []
    },
    {
      "cell_type": "markdown",
      "source": [
        "Adicionando mais informações a essa estrutura de dados com o ano e a sinopse de cada filme."
      ],
      "metadata": {
        "id": "tlMKPaOlibIi"
      }
    },
    {
      "cell_type": "code",
      "source": [
        "filme1={'nome': '1. Um Sonho de Liberdade', 'ano': 1994, 'sinopse': 'Dois homens presos se reúnem ao longo de vários anos, encontrando consolo e eventual redenção através de atos de decência comum'}\n",
        "\n",
        "filme2={'nome': '2. O Poderoso Chefão', 'ano': 1972, 'sinopse': 'O patriarca idoso de uma dinastia do crime organizado transfere o controle de seu império clandestino para seu filho relutante'}\n",
        "\n",
        "filme3={'nome': '3. Batman: O Cavaleiro das Trevas', 'ano': 2008, 'sinopse': 'Agora com a ajuda do tenente Jim Gordon e do promotor público Harvey Dent, Batman tem tudo para banir o crime de Gotham City de uma vez por todas. Mas em breve, os três serão vítimas do Coringa, que pretende lançar Gotham em uma anarquia'}\n",
        "\n",
        "filme4={'nome': '4. O Poderoso Chefão II', 'ano': 1974, 'sinopse': 'Em 1950, Michael Corleone, agora à frente da família, tenta expandir o negócio do crime a Las Vegas, Los Angeles e Cuba. Paralelamente, é revelada a história de Vito Corleone, e de como saiu da Sicília e chegou a Nova Iorque'}\n",
        "\n",
        "filme5={'nome': '5. 12 Homens e uma Sentença', 'ano': 1957, 'sinopse': 'O julgamento de um assassinato em Nova Iorque é frustrado por um único membro, cujo ceticismo força o júri a considerar cuidadosamente as evidências antes de dar o veredito'}\n",
        "\n",
        "filme6={'nome': '6. A Lista de Schindler', 'ano': 1993, 'sinopse': 'Na Polônia ocupada pelos alemães durante a Segunda Guerra Mundial, o industrial Oskar Schindler começa a ser preocupar com seus trabalhadores judeus depois de testemunhar sua perseguição pelos nazistas'}\n",
        "\n",
        "filme7={'nome': '7. O Senhor dos Anéis: O Retorno do Rei', 'ano': 2003, 'sinopse': 'Gandalf e Aragorn lideram o Mundo dos Homens contra o exército de Sauron para desviar o olhar de Frodo e Sam quando eles se aproximam á Montanha da Perdição com o Um Anel'}\n",
        "\n",
        "filme8={'nome': '8. Pulp Fiction: Tempo de Violência', 'ano': 1994, 'sinopse': 'As vidas de dois assassinos da máfia, um boxeador, um gângster e sua esposa, e um par de bandidos se entrelaçam em quatro histórias de violência e redenção'}\n",
        "\n",
        "filme9={'nome': '9. O Senhor dos Anéis: A Sociedade do Anel', 'ano': 2001, 'sinopse': 'Um manso hobbit do Condado e oito companheiros partem em uma jornada para destruir o poderoso Um Anel e salvar a Terra-média das Trevas'}\n",
        "\n",
        "filme10={'nome': '10. Três Homens em Conflito', 'ano': 1966, 'sinopse': 'Um impostor se junta com dois homens para encontrar fortuna num remoto cemitério'}\n",
        "\n",
        "filmes = [filme1, filme2, filme3, filme4, filme5, filme6, filme7, filme8, filme9, filme10]\n",
        "\n"
      ],
      "metadata": {
        "id": "Ogb4uHz2isrH"
      },
      "execution_count": 9,
      "outputs": []
    },
    {
      "cell_type": "markdown",
      "source": [
        "Utilizando a conversão para conjunto e, em seguida, novamente para lista para remover os duplicados. Armazenando o resultado de volta na variável filmes."
      ],
      "metadata": {
        "id": "tveDyCHqjJbm"
      }
    },
    {
      "cell_type": "code",
      "source": [
        "filmes = [\n",
        "    'The Shawshank Redemption',\n",
        "    'The Godfather',\n",
        "    'The Dark Knight',\n",
        "    'The Godfather Part II',\n",
        "    'The Godfather',\n",
        "    '12 Angry Men',\n",
        "    'Schindler\\'s List',\n",
        "    'The Lord of the Rings: The Return of the King',\n",
        "    'Pulp Fiction',\n",
        "    'The Shawshank Redemption',\n",
        "    'The Lord of the Rings: The Fellowship of the Ring',\n",
        "    'The Good, the Bad and the Ugly',\n",
        "    'Pulp Fiction'\n",
        "]\n",
        "\n",
        "filmes = list(set(filmes))\n",
        "\n",
        "print(filmes)"
      ],
      "metadata": {
        "id": "py-BOR6MjPeU"
      },
      "execution_count": null,
      "outputs": []
    }
  ]
}